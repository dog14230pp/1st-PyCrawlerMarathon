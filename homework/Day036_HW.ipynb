{
 "cells": [
  {
   "cell_type": "markdown",
   "metadata": {},
   "source": [
    "# 加速：非同步爬蟲\n",
    "\n",
    "* 了解非同步爬蟲加速原理與實作"
   ]
  },
  {
   "cell_type": "markdown",
   "metadata": {},
   "source": [
    "## 作業目標\n",
    "\n",
    "* 比較一下非同步爬蟲跟多線程爬蟲的差異是什麼？各自的優缺點為何？"
   ]
  },
  {
   "cell_type": "code",
   "execution_count": 1,
   "metadata": {
    "scrolled": true
   },
   "outputs": [
    {
     "data": {
      "text/plain": [
       "'\\nYour Input\\n'"
      ]
     },
     "execution_count": 1,
     "metadata": {},
     "output_type": "execute_result"
    }
   ],
   "source": [
    "#非同步爬蟲: 屬於單線程，程式可以在等待回應的時候先去執行其他的區塊\n",
    "#優點: 增加單一核心的使用率，使得爬取速度加快/不受核心數影響\n",
    "#缺點: 加速可能有限，且沒有有效利用到硬體資源"
   ]
  },
  {
   "cell_type": "code",
   "execution_count": null,
   "metadata": {},
   "outputs": [],
   "source": [
    "#多線程爬蟲: 藉由分出多個執行緒來同時進行多個工作\n",
    "#優點: 工作可以同時進行，且有效利用硬體資源\n",
    "#缺點: 硬體可以提供之資源是加速程度的主要因素"
   ]
  }
 ],
 "metadata": {
  "colab": {
   "name": "homework.ipynb",
   "provenance": []
  },
  "kernelspec": {
   "display_name": "Python 3",
   "language": "python",
   "name": "python3"
  },
  "language_info": {
   "codemirror_mode": {
    "name": "ipython",
    "version": 3
   },
   "file_extension": ".py",
   "mimetype": "text/x-python",
   "name": "python",
   "nbconvert_exporter": "python",
   "pygments_lexer": "ipython3",
   "version": "3.7.4"
  }
 },
 "nbformat": 4,
 "nbformat_minor": 1
}
